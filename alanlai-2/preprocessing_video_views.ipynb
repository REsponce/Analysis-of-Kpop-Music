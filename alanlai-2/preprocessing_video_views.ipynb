{
 "cells": [
  {
   "cell_type": "code",
   "execution_count": 1,
   "metadata": {},
   "outputs": [],
   "source": [
    "import pandas as pd\n",
    "from googleapiclient.discovery import build\n",
    "import warnings\n",
    "warnings.filterwarnings('ignore')"
   ]
  },
  {
   "cell_type": "code",
   "execution_count": 2,
   "metadata": {},
   "outputs": [],
   "source": [
    "mv = pd.read_csv('data/kpop_mv_with_video_seconds.csv')"
   ]
  },
  {
   "cell_type": "code",
   "execution_count": 3,
   "metadata": {},
   "outputs": [],
   "source": [
    "api_key = 'please use your own key ^^'\n",
    "youtube = build('youtube', 'v3', developerKey=api_key)"
   ]
  },
  {
   "cell_type": "code",
   "execution_count": 5,
   "metadata": {},
   "outputs": [
    {
     "data": {
      "text/html": [
       "<div>\n",
       "<style scoped>\n",
       "    .dataframe tbody tr th:only-of-type {\n",
       "        vertical-align: middle;\n",
       "    }\n",
       "\n",
       "    .dataframe tbody tr th {\n",
       "        vertical-align: top;\n",
       "    }\n",
       "\n",
       "    .dataframe thead th {\n",
       "        text-align: right;\n",
       "    }\n",
       "</style>\n",
       "<table border=\"1\" class=\"dataframe\">\n",
       "  <thead>\n",
       "    <tr style=\"text-align: right;\">\n",
       "      <th></th>\n",
       "      <th>Date</th>\n",
       "      <th>Artist</th>\n",
       "      <th>Song Name</th>\n",
       "      <th>Korean Name</th>\n",
       "      <th>Director</th>\n",
       "      <th>Video</th>\n",
       "      <th>Type</th>\n",
       "      <th>Release</th>\n",
       "      <th>video_seconds</th>\n",
       "    </tr>\n",
       "  </thead>\n",
       "  <tbody>\n",
       "    <tr>\n",
       "      <th>0</th>\n",
       "      <td>2020-05-22</td>\n",
       "      <td>Agust D</td>\n",
       "      <td>Daechwita</td>\n",
       "      <td>대취타</td>\n",
       "      <td>NaN</td>\n",
       "      <td>https://youtu.be/qGjAWJ2zWWI</td>\n",
       "      <td>Boy Solo</td>\n",
       "      <td>Major</td>\n",
       "      <td>269</td>\n",
       "    </tr>\n",
       "    <tr>\n",
       "      <th>1</th>\n",
       "      <td>2020-05-21</td>\n",
       "      <td>Yubin</td>\n",
       "      <td>yaya (Me Time)</td>\n",
       "      <td>넵넵</td>\n",
       "      <td>NaN</td>\n",
       "      <td>https://youtu.be/BJD0arHF_5c</td>\n",
       "      <td>Girl Solo</td>\n",
       "      <td>Major</td>\n",
       "      <td>186</td>\n",
       "    </tr>\n",
       "    <tr>\n",
       "      <th>2</th>\n",
       "      <td>2020-05-21</td>\n",
       "      <td>OnlyOneOf</td>\n",
       "      <td>Angel (prod. GRAY)</td>\n",
       "      <td>NaN</td>\n",
       "      <td>NaN</td>\n",
       "      <td>https://youtu.be/vVTo8p72FxQ</td>\n",
       "      <td>Boy</td>\n",
       "      <td>Major</td>\n",
       "      <td>221</td>\n",
       "    </tr>\n",
       "    <tr>\n",
       "      <th>3</th>\n",
       "      <td>2020-05-20</td>\n",
       "      <td>Ryu Sujeong</td>\n",
       "      <td>Tiger Eyes</td>\n",
       "      <td>NaN</td>\n",
       "      <td>NaN</td>\n",
       "      <td>https://youtu.be/aE6curPGQRY</td>\n",
       "      <td>Girl Solo</td>\n",
       "      <td>Major</td>\n",
       "      <td>225</td>\n",
       "    </tr>\n",
       "    <tr>\n",
       "      <th>4</th>\n",
       "      <td>2020-05-20</td>\n",
       "      <td>Crush</td>\n",
       "      <td>Mayday feat. Joy (Red Velvet)</td>\n",
       "      <td>자나깨나</td>\n",
       "      <td>NaN</td>\n",
       "      <td>https://youtu.be/29ycT6fA-Rs</td>\n",
       "      <td>Boy Solo</td>\n",
       "      <td>Major</td>\n",
       "      <td>201</td>\n",
       "    </tr>\n",
       "  </tbody>\n",
       "</table>\n",
       "</div>"
      ],
      "text/plain": [
       "         Date       Artist                      Song Name Korean Name  \\\n",
       "0  2020-05-22      Agust D                      Daechwita         대취타   \n",
       "1  2020-05-21        Yubin                 yaya (Me Time)          넵넵   \n",
       "2  2020-05-21    OnlyOneOf             Angel (prod. GRAY)         NaN   \n",
       "3  2020-05-20  Ryu Sujeong                     Tiger Eyes         NaN   \n",
       "4  2020-05-20        Crush  Mayday feat. Joy (Red Velvet)        자나깨나   \n",
       "\n",
       "  Director                         Video       Type Release  video_seconds  \n",
       "0      NaN  https://youtu.be/qGjAWJ2zWWI   Boy Solo   Major            269  \n",
       "1      NaN  https://youtu.be/BJD0arHF_5c  Girl Solo   Major            186  \n",
       "2      NaN  https://youtu.be/vVTo8p72FxQ        Boy   Major            221  \n",
       "3      NaN  https://youtu.be/aE6curPGQRY  Girl Solo   Major            225  \n",
       "4      NaN  https://youtu.be/29ycT6fA-Rs   Boy Solo   Major            201  "
      ]
     },
     "execution_count": 5,
     "metadata": {},
     "output_type": "execute_result"
    }
   ],
   "source": [
    "mv.head()"
   ]
  },
  {
   "cell_type": "code",
   "execution_count": 6,
   "metadata": {},
   "outputs": [],
   "source": [
    "mv['real_id'] = 0\n",
    "mv['viewCount'] = 0\n",
    "mv['likeCount'] = 0\n",
    "mv['commentCount'] = 0\n",
    "for i in range(len(mv)):\n",
    "    vid = mv.Video[i][17:]\n",
    "    request = youtube.videos().list(part = 'statistics', id = vid)\n",
    "    response = request.execute()\n",
    "\n",
    "    if not response['items']:\n",
    "        continue\n",
    "    else:\n",
    "        mv.real_id[i] = vid\n",
    "        mv.viewCount[i] = int(response['items'][0]['statistics']['viewCount']) if ('viewCount' in response['items'][0]['statistics'].keys()) else 0\n",
    "        mv.likeCount[i] = int(response['items'][0]['statistics']['likeCount']) if ('likeCount' in response['items'][0]['statistics'].keys()) else 0\n",
    "        mv.commentCount[i] = int(response['items'][0]['statistics']['commentCount']) if ('commentCount' in response['items'][0]['statistics'].keys()) else 0"
   ]
  },
  {
   "cell_type": "code",
   "execution_count": 13,
   "metadata": {},
   "outputs": [],
   "source": [
    "for i in range(len(mv)):\n",
    "    if mv.real_id[i] == '0':\n",
    "        search_keyword = str(mv.Artist[i]) + ' ' + str(mv['Song Name'][i]) \n",
    "        get_id_request = youtube.search().list(q=search_keyword, part='snippet')\n",
    "        res = get_id_request.execute()\n",
    "        target_vid = res['items'][0]['id']['videoId']\n",
    "        \n",
    "        request = youtube.videos().list(part = 'statistics', id = target_vid)\n",
    "        response = request.execute()\n",
    "\n",
    "        mv.real_id[i] = target_vid\n",
    "        mv.viewCount[i] = int(response['items'][0]['statistics']['viewCount']) if ('viewCount' in response['items'][0]['statistics'].keys()) else 0\n",
    "        mv.likeCount[i] = int(response['items'][0]['statistics']['likeCount']) if ('likeCount' in response['items'][0]['statistics'].keys()) else 0\n",
    "        mv.commentCount[i] = int(response['items'][0]['statistics']['commentCount']) if ('commentCount' in response['items'][0]['statistics'].keys()) else 0"
   ]
  },
  {
   "cell_type": "markdown",
   "metadata": {},
   "source": [
    "deal with duplicates"
   ]
  },
  {
   "cell_type": "code",
   "execution_count": 17,
   "metadata": {},
   "outputs": [
    {
     "data": {
      "text/html": [
       "<div>\n",
       "<style scoped>\n",
       "    .dataframe tbody tr th:only-of-type {\n",
       "        vertical-align: middle;\n",
       "    }\n",
       "\n",
       "    .dataframe tbody tr th {\n",
       "        vertical-align: top;\n",
       "    }\n",
       "\n",
       "    .dataframe thead th {\n",
       "        text-align: right;\n",
       "    }\n",
       "</style>\n",
       "<table border=\"1\" class=\"dataframe\">\n",
       "  <thead>\n",
       "    <tr style=\"text-align: right;\">\n",
       "      <th></th>\n",
       "      <th>Date</th>\n",
       "      <th>Artist</th>\n",
       "      <th>Song Name</th>\n",
       "      <th>Korean Name</th>\n",
       "      <th>Director</th>\n",
       "      <th>Video</th>\n",
       "      <th>Type</th>\n",
       "      <th>Release</th>\n",
       "      <th>video_seconds</th>\n",
       "      <th>real_id</th>\n",
       "      <th>viewCount</th>\n",
       "      <th>likeCount</th>\n",
       "      <th>commentCount</th>\n",
       "    </tr>\n",
       "  </thead>\n",
       "  <tbody>\n",
       "    <tr>\n",
       "      <th>0</th>\n",
       "      <td>2020-05-22</td>\n",
       "      <td>Agust D</td>\n",
       "      <td>Daechwita</td>\n",
       "      <td>대취타</td>\n",
       "      <td>NaN</td>\n",
       "      <td>https://youtu.be/qGjAWJ2zWWI</td>\n",
       "      <td>Boy Solo</td>\n",
       "      <td>Major</td>\n",
       "      <td>269</td>\n",
       "      <td>qGjAWJ2zWWI</td>\n",
       "      <td>400055012</td>\n",
       "      <td>14169804</td>\n",
       "      <td>1361748</td>\n",
       "    </tr>\n",
       "    <tr>\n",
       "      <th>1</th>\n",
       "      <td>2020-05-21</td>\n",
       "      <td>Yubin</td>\n",
       "      <td>yaya (Me Time)</td>\n",
       "      <td>넵넵</td>\n",
       "      <td>NaN</td>\n",
       "      <td>https://youtu.be/BJD0arHF_5c</td>\n",
       "      <td>Girl Solo</td>\n",
       "      <td>Major</td>\n",
       "      <td>186</td>\n",
       "      <td>BJD0arHF_5c</td>\n",
       "      <td>1164316</td>\n",
       "      <td>53308</td>\n",
       "      <td>2757</td>\n",
       "    </tr>\n",
       "    <tr>\n",
       "      <th>2</th>\n",
       "      <td>2020-05-21</td>\n",
       "      <td>OnlyOneOf</td>\n",
       "      <td>Angel (prod. GRAY)</td>\n",
       "      <td>NaN</td>\n",
       "      <td>NaN</td>\n",
       "      <td>https://youtu.be/vVTo8p72FxQ</td>\n",
       "      <td>Boy</td>\n",
       "      <td>Major</td>\n",
       "      <td>221</td>\n",
       "      <td>vVTo8p72FxQ</td>\n",
       "      <td>7492213</td>\n",
       "      <td>81482</td>\n",
       "      <td>3994</td>\n",
       "    </tr>\n",
       "    <tr>\n",
       "      <th>3</th>\n",
       "      <td>2020-05-20</td>\n",
       "      <td>Ryu Sujeong</td>\n",
       "      <td>Tiger Eyes</td>\n",
       "      <td>NaN</td>\n",
       "      <td>NaN</td>\n",
       "      <td>https://youtu.be/aE6curPGQRY</td>\n",
       "      <td>Girl Solo</td>\n",
       "      <td>Major</td>\n",
       "      <td>225</td>\n",
       "      <td>aE6curPGQRY</td>\n",
       "      <td>2645267</td>\n",
       "      <td>42965</td>\n",
       "      <td>3526</td>\n",
       "    </tr>\n",
       "    <tr>\n",
       "      <th>4</th>\n",
       "      <td>2020-05-20</td>\n",
       "      <td>Crush</td>\n",
       "      <td>Mayday feat. Joy (Red Velvet)</td>\n",
       "      <td>자나깨나</td>\n",
       "      <td>NaN</td>\n",
       "      <td>https://youtu.be/29ycT6fA-Rs</td>\n",
       "      <td>Boy Solo</td>\n",
       "      <td>Major</td>\n",
       "      <td>201</td>\n",
       "      <td>29ycT6fA-Rs</td>\n",
       "      <td>16993641</td>\n",
       "      <td>652327</td>\n",
       "      <td>32200</td>\n",
       "    </tr>\n",
       "  </tbody>\n",
       "</table>\n",
       "</div>"
      ],
      "text/plain": [
       "         Date       Artist                      Song Name Korean Name  \\\n",
       "0  2020-05-22      Agust D                      Daechwita         대취타   \n",
       "1  2020-05-21        Yubin                 yaya (Me Time)          넵넵   \n",
       "2  2020-05-21    OnlyOneOf             Angel (prod. GRAY)         NaN   \n",
       "3  2020-05-20  Ryu Sujeong                     Tiger Eyes         NaN   \n",
       "4  2020-05-20        Crush  Mayday feat. Joy (Red Velvet)        자나깨나   \n",
       "\n",
       "  Director                         Video       Type Release  video_seconds  \\\n",
       "0      NaN  https://youtu.be/qGjAWJ2zWWI   Boy Solo   Major            269   \n",
       "1      NaN  https://youtu.be/BJD0arHF_5c  Girl Solo   Major            186   \n",
       "2      NaN  https://youtu.be/vVTo8p72FxQ        Boy   Major            221   \n",
       "3      NaN  https://youtu.be/aE6curPGQRY  Girl Solo   Major            225   \n",
       "4      NaN  https://youtu.be/29ycT6fA-Rs   Boy Solo   Major            201   \n",
       "\n",
       "       real_id  viewCount  likeCount  commentCount  \n",
       "0  qGjAWJ2zWWI  400055012   14169804       1361748  \n",
       "1  BJD0arHF_5c    1164316      53308          2757  \n",
       "2  vVTo8p72FxQ    7492213      81482          3994  \n",
       "3  aE6curPGQRY    2645267      42965          3526  \n",
       "4  29ycT6fA-Rs   16993641     652327         32200  "
      ]
     },
     "execution_count": 17,
     "metadata": {},
     "output_type": "execute_result"
    }
   ],
   "source": [
    "mv.head()"
   ]
  },
  {
   "cell_type": "code",
   "execution_count": 28,
   "metadata": {},
   "outputs": [],
   "source": [
    "duplicate_list = mv.real_id.value_counts().reset_index()\n",
    "duplicate_list.columns = ['real_id', 'cnt']"
   ]
  },
  {
   "cell_type": "code",
   "execution_count": 30,
   "metadata": {},
   "outputs": [
    {
     "data": {
      "text/plain": [
       "7"
      ]
     },
     "execution_count": 30,
     "metadata": {},
     "output_type": "execute_result"
    }
   ],
   "source": [
    "len(duplicate_list[duplicate_list.cnt != 1])"
   ]
  },
  {
   "cell_type": "code",
   "execution_count": 31,
   "metadata": {},
   "outputs": [
    {
     "data": {
      "text/plain": [
       "3772"
      ]
     },
     "execution_count": 31,
     "metadata": {},
     "output_type": "execute_result"
    }
   ],
   "source": [
    "len(mv)"
   ]
  },
  {
   "cell_type": "code",
   "execution_count": 32,
   "metadata": {},
   "outputs": [
    {
     "data": {
      "text/plain": [
       "3765"
      ]
     },
     "execution_count": 32,
     "metadata": {},
     "output_type": "execute_result"
    }
   ],
   "source": [
    "len(mv.drop_duplicates(subset='real_id', keep='last'))"
   ]
  },
  {
   "cell_type": "code",
   "execution_count": 33,
   "metadata": {},
   "outputs": [],
   "source": [
    "mv = mv.drop_duplicates(subset='real_id', keep='last')\n",
    "mv.to_csv('data/kpop_mv_with_all_info.csv', index=False)"
   ]
  }
 ],
 "metadata": {
  "kernelspec": {
   "display_name": "Python 3.10.7 64-bit",
   "language": "python",
   "name": "python3"
  },
  "language_info": {
   "codemirror_mode": {
    "name": "ipython",
    "version": 3
   },
   "file_extension": ".py",
   "mimetype": "text/x-python",
   "name": "python",
   "nbconvert_exporter": "python",
   "pygments_lexer": "ipython3",
   "version": "3.10.7"
  },
  "orig_nbformat": 4,
  "vscode": {
   "interpreter": {
    "hash": "9cbb33fb0dd98d60d7542c1e0a8ec9389a1bc71302aaca21e62e688716f63114"
   }
  }
 },
 "nbformat": 4,
 "nbformat_minor": 2
}
